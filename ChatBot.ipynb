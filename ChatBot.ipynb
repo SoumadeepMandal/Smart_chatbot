{
  "nbformat": 4,
  "nbformat_minor": 0,
  "metadata": {
    "colab": {
      "provenance": [],
      "authorship_tag": "ABX9TyPlR2i9ceYAtKCPaDJxq4NK",
      "include_colab_link": true
    },
    "kernelspec": {
      "name": "python3",
      "display_name": "Python 3"
    },
    "language_info": {
      "name": "python"
    }
  },
  "cells": [
    {
      "cell_type": "markdown",
      "metadata": {
        "id": "view-in-github",
        "colab_type": "text"
      },
      "source": [
        "<a href=\"https://colab.research.google.com/github/SoumadeepMandal/Smart_chatbot/blob/main/ChatBot.ipynb\" target=\"_parent\"><img src=\"https://colab.research.google.com/assets/colab-badge.svg\" alt=\"Open In Colab\"/></a>"
      ]
    },
    {
      "cell_type": "code",
      "execution_count": null,
      "metadata": {
        "id": "ymuk5j7E3wsX"
      },
      "outputs": [],
      "source": [
        "from IPython import get_ipython\n",
        "from IPython.display import display"
      ]
    },
    {
      "cell_type": "code",
      "source": [
        "!pip install nltk"
      ],
      "metadata": {
        "colab": {
          "base_uri": "https://localhost:8080/"
        },
        "id": "XwTSfajb4Osu",
        "outputId": "9e82bd59-893f-443f-d784-e72b7f4175c8"
      },
      "execution_count": null,
      "outputs": [
        {
          "output_type": "stream",
          "name": "stdout",
          "text": [
            "Requirement already satisfied: nltk in /usr/local/lib/python3.11/dist-packages (3.9.1)\n",
            "Requirement already satisfied: click in /usr/local/lib/python3.11/dist-packages (from nltk) (8.2.0)\n",
            "Requirement already satisfied: joblib in /usr/local/lib/python3.11/dist-packages (from nltk) (1.5.0)\n",
            "Requirement already satisfied: regex>=2021.8.3 in /usr/local/lib/python3.11/dist-packages (from nltk) (2024.11.6)\n",
            "Requirement already satisfied: tqdm in /usr/local/lib/python3.11/dist-packages (from nltk) (4.67.1)\n"
          ]
        }
      ]
    },
    {
      "cell_type": "code",
      "source": [
        "!pip install newspaper3k"
      ],
      "metadata": {
        "colab": {
          "base_uri": "https://localhost:8080/"
        },
        "id": "4vo_1IboSH1Q",
        "outputId": "6347eba8-f1c9-4775-bb81-fef22b0c24e5"
      },
      "execution_count": null,
      "outputs": [
        {
          "output_type": "stream",
          "name": "stdout",
          "text": [
            "Collecting newspaper3k\n",
            "  Downloading newspaper3k-0.2.8-py3-none-any.whl.metadata (11 kB)\n",
            "Requirement already satisfied: beautifulsoup4>=4.4.1 in /usr/local/lib/python3.11/dist-packages (from newspaper3k) (4.13.4)\n",
            "Requirement already satisfied: Pillow>=3.3.0 in /usr/local/lib/python3.11/dist-packages (from newspaper3k) (11.2.1)\n",
            "Requirement already satisfied: PyYAML>=3.11 in /usr/local/lib/python3.11/dist-packages (from newspaper3k) (6.0.2)\n",
            "Collecting cssselect>=0.9.2 (from newspaper3k)\n",
            "  Downloading cssselect-1.3.0-py3-none-any.whl.metadata (2.6 kB)\n",
            "Requirement already satisfied: lxml>=3.6.0 in /usr/local/lib/python3.11/dist-packages (from newspaper3k) (5.4.0)\n",
            "Requirement already satisfied: nltk>=3.2.1 in /usr/local/lib/python3.11/dist-packages (from newspaper3k) (3.9.1)\n",
            "Requirement already satisfied: requests>=2.10.0 in /usr/local/lib/python3.11/dist-packages (from newspaper3k) (2.32.3)\n",
            "Collecting feedparser>=5.2.1 (from newspaper3k)\n",
            "  Downloading feedparser-6.0.11-py3-none-any.whl.metadata (2.4 kB)\n",
            "Collecting tldextract>=2.0.1 (from newspaper3k)\n",
            "  Downloading tldextract-5.3.0-py3-none-any.whl.metadata (11 kB)\n",
            "Collecting feedfinder2>=0.0.4 (from newspaper3k)\n",
            "  Downloading feedfinder2-0.0.4.tar.gz (3.3 kB)\n",
            "  Preparing metadata (setup.py) ... \u001b[?25l\u001b[?25hdone\n",
            "Collecting jieba3k>=0.35.1 (from newspaper3k)\n",
            "  Downloading jieba3k-0.35.1.zip (7.4 MB)\n",
            "\u001b[2K     \u001b[90m━━━━━━━━━━━━━━━━━━━━━━━━━━━━━━━━━━━━━━━━\u001b[0m \u001b[32m7.4/7.4 MB\u001b[0m \u001b[31m54.6 MB/s\u001b[0m eta \u001b[36m0:00:00\u001b[0m\n",
            "\u001b[?25h  Preparing metadata (setup.py) ... \u001b[?25l\u001b[?25hdone\n",
            "Requirement already satisfied: python-dateutil>=2.5.3 in /usr/local/lib/python3.11/dist-packages (from newspaper3k) (2.9.0.post0)\n",
            "Collecting tinysegmenter==0.3 (from newspaper3k)\n",
            "  Downloading tinysegmenter-0.3.tar.gz (16 kB)\n",
            "  Preparing metadata (setup.py) ... \u001b[?25l\u001b[?25hdone\n",
            "Requirement already satisfied: soupsieve>1.2 in /usr/local/lib/python3.11/dist-packages (from beautifulsoup4>=4.4.1->newspaper3k) (2.7)\n",
            "Requirement already satisfied: typing-extensions>=4.0.0 in /usr/local/lib/python3.11/dist-packages (from beautifulsoup4>=4.4.1->newspaper3k) (4.13.2)\n",
            "Requirement already satisfied: six in /usr/local/lib/python3.11/dist-packages (from feedfinder2>=0.0.4->newspaper3k) (1.17.0)\n",
            "Collecting sgmllib3k (from feedparser>=5.2.1->newspaper3k)\n",
            "  Downloading sgmllib3k-1.0.0.tar.gz (5.8 kB)\n",
            "  Preparing metadata (setup.py) ... \u001b[?25l\u001b[?25hdone\n",
            "Requirement already satisfied: click in /usr/local/lib/python3.11/dist-packages (from nltk>=3.2.1->newspaper3k) (8.2.0)\n",
            "Requirement already satisfied: joblib in /usr/local/lib/python3.11/dist-packages (from nltk>=3.2.1->newspaper3k) (1.5.0)\n",
            "Requirement already satisfied: regex>=2021.8.3 in /usr/local/lib/python3.11/dist-packages (from nltk>=3.2.1->newspaper3k) (2024.11.6)\n",
            "Requirement already satisfied: tqdm in /usr/local/lib/python3.11/dist-packages (from nltk>=3.2.1->newspaper3k) (4.67.1)\n",
            "Requirement already satisfied: charset-normalizer<4,>=2 in /usr/local/lib/python3.11/dist-packages (from requests>=2.10.0->newspaper3k) (3.4.2)\n",
            "Requirement already satisfied: idna<4,>=2.5 in /usr/local/lib/python3.11/dist-packages (from requests>=2.10.0->newspaper3k) (3.10)\n",
            "Requirement already satisfied: urllib3<3,>=1.21.1 in /usr/local/lib/python3.11/dist-packages (from requests>=2.10.0->newspaper3k) (2.4.0)\n",
            "Requirement already satisfied: certifi>=2017.4.17 in /usr/local/lib/python3.11/dist-packages (from requests>=2.10.0->newspaper3k) (2025.4.26)\n",
            "Collecting requests-file>=1.4 (from tldextract>=2.0.1->newspaper3k)\n",
            "  Downloading requests_file-2.1.0-py2.py3-none-any.whl.metadata (1.7 kB)\n",
            "Requirement already satisfied: filelock>=3.0.8 in /usr/local/lib/python3.11/dist-packages (from tldextract>=2.0.1->newspaper3k) (3.18.0)\n",
            "Downloading newspaper3k-0.2.8-py3-none-any.whl (211 kB)\n",
            "\u001b[2K   \u001b[90m━━━━━━━━━━━━━━━━━━━━━━━━━━━━━━━━━━━━━━━━\u001b[0m \u001b[32m211.1/211.1 kB\u001b[0m \u001b[31m10.3 MB/s\u001b[0m eta \u001b[36m0:00:00\u001b[0m\n",
            "\u001b[?25hDownloading cssselect-1.3.0-py3-none-any.whl (18 kB)\n",
            "Downloading feedparser-6.0.11-py3-none-any.whl (81 kB)\n",
            "\u001b[2K   \u001b[90m━━━━━━━━━━━━━━━━━━━━━━━━━━━━━━━━━━━━━━━━\u001b[0m \u001b[32m81.3/81.3 kB\u001b[0m \u001b[31m3.4 MB/s\u001b[0m eta \u001b[36m0:00:00\u001b[0m\n",
            "\u001b[?25hDownloading tldextract-5.3.0-py3-none-any.whl (107 kB)\n",
            "\u001b[2K   \u001b[90m━━━━━━━━━━━━━━━━━━━━━━━━━━━━━━━━━━━━━━━━\u001b[0m \u001b[32m107.4/107.4 kB\u001b[0m \u001b[31m9.5 MB/s\u001b[0m eta \u001b[36m0:00:00\u001b[0m\n",
            "\u001b[?25hDownloading requests_file-2.1.0-py2.py3-none-any.whl (4.2 kB)\n",
            "Building wheels for collected packages: tinysegmenter, feedfinder2, jieba3k, sgmllib3k\n",
            "  Building wheel for tinysegmenter (setup.py) ... \u001b[?25l\u001b[?25hdone\n",
            "  Created wheel for tinysegmenter: filename=tinysegmenter-0.3-py3-none-any.whl size=13540 sha256=d4805030ebd29f8d5e35d89ec65c4944ff84d8ac0e158d477c0f0182313747b6\n",
            "  Stored in directory: /root/.cache/pip/wheels/fc/ab/f8/cce3a9ae6d828bd346be695f7ff54612cd22b7cbd7208d68f3\n",
            "  Building wheel for feedfinder2 (setup.py) ... \u001b[?25l\u001b[?25hdone\n",
            "  Created wheel for feedfinder2: filename=feedfinder2-0.0.4-py3-none-any.whl size=3341 sha256=d09b1ce91bc25cb6b6353c2bc2203604db235d67ac00ed4f4849faa21a7cbbe5\n",
            "  Stored in directory: /root/.cache/pip/wheels/80/d5/72/9cd9eccc819636436c6a6e59c22a0fb1ec167beef141f56491\n",
            "  Building wheel for jieba3k (setup.py) ... \u001b[?25l\u001b[?25hdone\n",
            "  Created wheel for jieba3k: filename=jieba3k-0.35.1-py3-none-any.whl size=7398380 sha256=7f42524c26819c08b6c193b8947d2f88806225fca2888decf1be32b45289254a\n",
            "  Stored in directory: /root/.cache/pip/wheels/3a/a1/46/8e68055c1713f9c4598774c15ad0541f26d5425ee7423b6493\n",
            "  Building wheel for sgmllib3k (setup.py) ... \u001b[?25l\u001b[?25hdone\n",
            "  Created wheel for sgmllib3k: filename=sgmllib3k-1.0.0-py3-none-any.whl size=6046 sha256=0d01d0cf8b22441801f50362aa7d7da89121fc9c8f6e575b50d055dcb2cdc38f\n",
            "  Stored in directory: /root/.cache/pip/wheels/3b/25/2a/105d6a15df6914f4d15047691c6c28f9052cc1173e40285d03\n",
            "Successfully built tinysegmenter feedfinder2 jieba3k sgmllib3k\n",
            "Installing collected packages: tinysegmenter, sgmllib3k, jieba3k, feedparser, cssselect, requests-file, feedfinder2, tldextract, newspaper3k\n",
            "Successfully installed cssselect-1.3.0 feedfinder2-0.0.4 feedparser-6.0.11 jieba3k-0.35.1 newspaper3k-0.2.8 requests-file-2.1.0 sgmllib3k-1.0.0 tinysegmenter-0.3 tldextract-5.3.0\n"
          ]
        }
      ]
    },
    {
      "cell_type": "code",
      "source": [
        "!pip install lxml_html_clean\n",
        "\n",
        "\n",
        "from newspaper import Article\n",
        "import random\n",
        "import string\n",
        "import nltk\n",
        "from sklearn.feature_extraction.text import CountVectorizer\n",
        "from sklearn.metrics.pairwise import cosine_similarity\n",
        "import numpy as np\n",
        "import warnings\n",
        "warnings.filterwarnings('ignore')"
      ],
      "metadata": {
        "colab": {
          "base_uri": "https://localhost:8080/"
        },
        "id": "r6Ctb_EQSsxo",
        "outputId": "673a4a7a-74c6-4402-e586-4c58d944a1b3"
      },
      "execution_count": null,
      "outputs": [
        {
          "output_type": "stream",
          "name": "stdout",
          "text": [
            "Collecting lxml_html_clean\n",
            "  Downloading lxml_html_clean-0.4.2-py3-none-any.whl.metadata (2.4 kB)\n",
            "Requirement already satisfied: lxml in /usr/local/lib/python3.11/dist-packages (from lxml_html_clean) (5.4.0)\n",
            "Downloading lxml_html_clean-0.4.2-py3-none-any.whl (14 kB)\n",
            "Installing collected packages: lxml_html_clean\n",
            "Successfully installed lxml_html_clean-0.4.2\n"
          ]
        }
      ]
    },
    {
      "cell_type": "code",
      "source": [
        "nltk.download('punkt',quiet=True)"
      ],
      "metadata": {
        "colab": {
          "base_uri": "https://localhost:8080/"
        },
        "id": "4XBcjXkPOVhQ",
        "outputId": "22271f2a-5c94-43ed-9368-22bfb0bb7909"
      },
      "execution_count": null,
      "outputs": [
        {
          "output_type": "execute_result",
          "data": {
            "text/plain": [
              "True"
            ]
          },
          "metadata": {},
          "execution_count": 5
        }
      ]
    },
    {
      "cell_type": "code",
      "source": [
        "try:\n",
        "    nltk.data.find('tokenizers/punkt_tab/english/')\n",
        "except LookupError:\n",
        "    nltk.download('punkt_tab', quiet=True)"
      ],
      "metadata": {
        "id": "aMRd96haTJPv"
      },
      "execution_count": null,
      "outputs": []
    },
    {
      "cell_type": "code",
      "source": [
        "article = Article('https://my.clevelandclinic.org/health/diseases/15096-chronic-kidney-disease')\n",
        "article.download()\n",
        "article.parse()\n",
        "article.nlp()\n",
        "corpus=article.text"
      ],
      "metadata": {
        "id": "Ahrz6VLFQM3Y"
      },
      "execution_count": null,
      "outputs": []
    },
    {
      "cell_type": "code",
      "source": [
        "print(corpus)"
      ],
      "metadata": {
        "colab": {
          "base_uri": "https://localhost:8080/"
        },
        "id": "bVxovg7aQ6dg",
        "outputId": "2138c829-aa34-4195-b39a-092bc4730c12"
      },
      "execution_count": null,
      "outputs": [
        {
          "output_type": "stream",
          "name": "stdout",
          "text": [
            "What is chronic kidney disease?\n",
            "\n",
            "Chronic kidney disease (CKD and chronic renal disease) means that there’s damage to your kidneys and they aren’t working as well as they should. Your kidneys are like a filter in your body — filtering out wastes, toxins and extra water from your blood. They also help with other functions like bone and red blood cell health. When your kidneys begin to lose their function, they can’t filter waste, which means the waste builds up in your blood.\n",
            "\n",
            "Advertisement Cleveland Clinic is a non-profit academic medical center. Advertising on our site helps support our mission. We do not endorse non-Cleveland Clinic products or services. Policy\n",
            "\n",
            "Kidney disease is called “chronic” because kidney function slowly decreases over time. CKD can lead to kidney failure, which is also called end-stage kidney disease. Not everyone with CKD will develop kidney failure, but the disease will often worsen without treatment. There’s no cure for chronic kidney disease. But there are steps you can take to slow kidney damage. Treatments like dialysis and transplantation are options for kidney failure (end-stage kidney disease).\n",
            "\n",
            "What do your kidneys do?\n",
            "\n",
            "You have two kidneys. They’re bean-shaped organs that are located toward your back, on either side of your spine, just underneath your rib cage. Each kidney is about the size of your fist.\n",
            "\n",
            "Your kidneys have many jobs, but their main job is to clean your blood, getting rid of toxins, waste and excess water as urine (pee). Your kidneys also balance the amount of electrolytes (such as salt and potassium) and minerals in your body, make hormones that control blood pressure, make red blood cells and keep your bones strong. If your kidneys are damaged and don’t work as they should, wastes can build up in your blood and make you sick.\n",
            "\n",
            "What are the 5 stages of chronic kidney disease?\n",
            "\n",
            "There are five stages of chronic kidney disease. The stages are based on how well your kidneys are able to filter out waste from your blood. Blood and urine tests determine which stage of CKD you’re in.\n",
            "\n",
            "Advertisement\n",
            "\n",
            "The stages range from very mild (stage 1) to kidney failure (stage 5). Healthcare providers determine the stage of your kidney function according to the glomerular filtration rate (GFR). Your GFR is a number based on the amount of creatinine, a waste product, found in your blood.\n",
            "\n",
            "Stage GFR (mL/min) What It Means Stage 1 90 and higher Your kidneys are working well but you have signs of mild kidney damage. Stage 2 60 to 89 Your kidneys are working well but you have more signs of mild kidney damage. Stage 3a 45 to 59 Your kidneys aren’t working as well as they should and show mild to moderate damage. This is the most common stage. You may notice symptoms at this stage. Stage 3b 30 to 44 Your kidneys show moderate damage and don’t work as well as they should. With the right treatment, many people can stay in this stage and never advance to stage 4. Stage 4 15 to 29 You have very poor kidney function; your kidneys are severely damaged and close to not working. Stage 5 Less than 15 Your kidneys are very close to failing or have stopped working. You may need kidney dialysis or a kidney transplant at this stage. Stage Stage 1 GFR (mL/min) 90 and higher What It Means Your kidneys are working well but you have signs of mild kidney damage. Stage 2 GFR (mL/min) 60 to 89 What It Means Your kidneys are working well but you have more signs of mild kidney damage. Stage 3a GFR (mL/min) 45 to 59 What It Means Your kidneys aren’t working as well as they should and show mild to moderate damage. This is the most common stage. You may notice symptoms at this stage. Stage 3b GFR (mL/min) 30 to 44 What It Means Your kidneys show moderate damage and don’t work as well as they should. With the right treatment, many people can stay in this stage and never advance to stage 4. Stage 4 GFR (mL/min) 15 to 29 What It Means You have very poor kidney function; your kidneys are severely damaged and close to not working. Stage 5 GFR (mL/min) Less than 15 What It Means Your kidneys are very close to failing or have stopped working. You may need kidney dialysis or a kidney transplant at this stage.\n",
            "\n",
            "How common is this condition?\n",
            "\n",
            "About 15% of adults in the United States have chronic kidney disease. Some 37 million people in the U.S. are living with chronic kidney disease.\n"
          ]
        }
      ]
    },
    {
      "cell_type": "code",
      "source": [
        "text = corpus   #tokenization\n",
        "sentence_list=nltk.sent_tokenize(text)# a list of sentence"
      ],
      "metadata": {
        "id": "U1ECtGcdToi6"
      },
      "execution_count": null,
      "outputs": []
    },
    {
      "cell_type": "code",
      "source": [
        "print(sentence_list)  #print the list of sentence"
      ],
      "metadata": {
        "colab": {
          "base_uri": "https://localhost:8080/"
        },
        "id": "vzMkKS3fXNf7",
        "outputId": "9a269427-604e-4d6a-c623-a4f278d1a583"
      },
      "execution_count": null,
      "outputs": [
        {
          "output_type": "stream",
          "name": "stdout",
          "text": [
            "['What is chronic kidney disease?', 'Chronic kidney disease (CKD and chronic renal disease) means that there’s damage to your kidneys and they aren’t working as well as they should.', 'Your kidneys are like a filter in your body — filtering out wastes, toxins and extra water from your blood.', 'They also help with other functions like bone and red blood cell health.', 'When your kidneys begin to lose their function, they can’t filter waste, which means the waste builds up in your blood.', 'Advertisement Cleveland Clinic is a non-profit academic medical center.', 'Advertising on our site helps support our mission.', 'We do not endorse non-Cleveland Clinic products or services.', 'Policy\\n\\nKidney disease is called “chronic” because kidney function slowly decreases over time.', 'CKD can lead to kidney failure, which is also called end-stage kidney disease.', 'Not everyone with CKD will develop kidney failure, but the disease will often worsen without treatment.', 'There’s no cure for chronic kidney disease.', 'But there are steps you can take to slow kidney damage.', 'Treatments like dialysis and transplantation are options for kidney failure (end-stage kidney disease).', 'What do your kidneys do?', 'You have two kidneys.', 'They’re bean-shaped organs that are located toward your back, on either side of your spine, just underneath your rib cage.', 'Each kidney is about the size of your fist.', 'Your kidneys have many jobs, but their main job is to clean your blood, getting rid of toxins, waste and excess water as urine (pee).', 'Your kidneys also balance the amount of electrolytes (such as salt and potassium) and minerals in your body, make hormones that control blood pressure, make red blood cells and keep your bones strong.', 'If your kidneys are damaged and don’t work as they should, wastes can build up in your blood and make you sick.', 'What are the 5 stages of chronic kidney disease?', 'There are five stages of chronic kidney disease.', 'The stages are based on how well your kidneys are able to filter out waste from your blood.', 'Blood and urine tests determine which stage of CKD you’re in.', 'Advertisement\\n\\nThe stages range from very mild (stage 1) to kidney failure (stage 5).', 'Healthcare providers determine the stage of your kidney function according to the glomerular filtration rate (GFR).', 'Your GFR is a number based on the amount of creatinine, a waste product, found in your blood.', 'Stage GFR (mL/min) What It Means Stage 1 90 and higher Your kidneys are working well but you have signs of mild kidney damage.', 'Stage 2 60 to 89 Your kidneys are working well but you have more signs of mild kidney damage.', 'Stage 3a 45 to 59 Your kidneys aren’t working as well as they should and show mild to moderate damage.', 'This is the most common stage.', 'You may notice symptoms at this stage.', 'Stage 3b 30 to 44 Your kidneys show moderate damage and don’t work as well as they should.', 'With the right treatment, many people can stay in this stage and never advance to stage 4.', 'Stage 4 15 to 29 You have very poor kidney function; your kidneys are severely damaged and close to not working.', 'Stage 5 Less than 15 Your kidneys are very close to failing or have stopped working.', 'You may need kidney dialysis or a kidney transplant at this stage.', 'Stage Stage 1 GFR (mL/min) 90 and higher What It Means Your kidneys are working well but you have signs of mild kidney damage.', 'Stage 2 GFR (mL/min) 60 to 89 What It Means Your kidneys are working well but you have more signs of mild kidney damage.', 'Stage 3a GFR (mL/min) 45 to 59 What It Means Your kidneys aren’t working as well as they should and show mild to moderate damage.', 'This is the most common stage.', 'You may notice symptoms at this stage.', 'Stage 3b GFR (mL/min) 30 to 44 What It Means Your kidneys show moderate damage and don’t work as well as they should.', 'With the right treatment, many people can stay in this stage and never advance to stage 4.', 'Stage 4 GFR (mL/min) 15 to 29 What It Means You have very poor kidney function; your kidneys are severely damaged and close to not working.', 'Stage 5 GFR (mL/min) Less than 15 What It Means Your kidneys are very close to failing or have stopped working.', 'You may need kidney dialysis or a kidney transplant at this stage.', 'How common is this condition?', 'About 15% of adults in the United States have chronic kidney disease.', 'Some 37 million people in the U.S. are living with chronic kidney disease.']\n"
          ]
        }
      ]
    },
    {
      "cell_type": "code",
      "source": [
        "# a function to return a random gretting  to the user\n",
        "def greetting_response(text):\n",
        "    text=text.lower()\n",
        "    bot_greetings =['howdy' ,'hello', 'hi', 'hey','hola']\n",
        "    User_greetings =['hi','hey','hello','whatssup']\n",
        "    for word in text.split():\n",
        "        if word in User_greetings:\n",
        "            return random.choice(bot_greetings)\n"
      ],
      "metadata": {
        "id": "W-Zl_phMjoIT"
      },
      "execution_count": null,
      "outputs": []
    },
    {
      "cell_type": "code",
      "source": [
        "def index_sort(list_var):\n",
        "    length = len(list_var)\n",
        "    list_index = list(range(0, length))\n",
        "\n",
        "    x = list_var\n",
        "    for i in range(length):\n",
        "        for j in range(length):\n",
        "          if x[list_index[i]]> x[list_index[j]]:\n",
        "            temp = list_index[i]\n",
        "            list_index[i] = list_index[j]\n",
        "            list_index[j] = temp\n",
        "    return list_index"
      ],
      "metadata": {
        "id": "lk3qZdMrrL_e"
      },
      "execution_count": null,
      "outputs": []
    },
    {
      "cell_type": "code",
      "source": [
        "#bot response\n",
        "def bot_response(user_input):\n",
        "    user_input = user_input.lower()\n",
        "    sentence_list.append(user_input)\n",
        "    bot_response = ''\n",
        "    cm = CountVectorizer().fit_transform(sentence_list)\n",
        "    similarity_scores = cosine_similarity(cm[-1], cm)\n",
        "    similarity_scores_list = similarity_scores.flatten()\n",
        "    index = index_sort(similarity_scores_list)\n",
        "\n",
        "    # Corrected the slicing syntax to get all indices except the first one\n",
        "    index = index[1:]  # Get all elements from the second element onwards\n",
        "\n",
        "    response_flag = 0\n",
        "\n",
        "    j = 0\n",
        "    # Looping through the sliced index list\n",
        "    for i in range(len(index)):\n",
        "        # Check if the similarity score for the current index is greater than 0\n",
        "        if similarity_scores_list[index[i]] > 0.0:\n",
        "            # Append the corresponding sentence to the bot response\n",
        "            bot_response = bot_response + ' ' + sentence_list[index[i]]\n",
        "            response_flag = 1\n",
        "            j = j + 1\n",
        "            # If we have added 3 sentences, break the loop\n",
        "            if j > 2:\n",
        "                break\n",
        "\n",
        "    # If no relevant sentences were found (response_flag is still 0)\n",
        "    if response_flag == 0:\n",
        "        bot_response = bot_response + ' ' + \"I apologize, I dont understand\"\n",
        "\n",
        "    # Remove the user input sentence from the list before returning the response\n",
        "    sentence_list.remove(user_input)\n",
        "\n",
        "    return bot_response"
      ],
      "metadata": {
        "id": "PxGm05uQnhcA"
      },
      "execution_count": null,
      "outputs": []
    },
    {
      "cell_type": "code",
      "source": [
        "#start the chat\n",
        "print('Doc  : hey I am your doc today! ask me anything')\n",
        "exit_list = ['exit', 'byee','see you again', 'break']\n",
        "while(True):\n",
        "    user_input = input()\n",
        "    if user_input.lower() in exit_list:\n",
        "        print('Doc : Bye Bye take care')\n",
        "        break\n",
        "    else:\n",
        "        if greetting_response(user_input) != None:\n",
        "            print('Doc : '+greetting_response(user_input))\n",
        "        else:\n",
        "            print('Doc : '+bot_response(user_input))\n",
        "\n"
      ],
      "metadata": {
        "colab": {
          "base_uri": "https://localhost:8080/"
        },
        "id": "9o0vlLcmvojR",
        "outputId": "7b9bba93-0ac3-4eba-8f31-fb8b18bf4e5f"
      },
      "execution_count": null,
      "outputs": [
        {
          "output_type": "stream",
          "name": "stdout",
          "text": [
            "Doc  : hey I am your doc today! ask me anything\n",
            "what is kidney problems\n",
            "Doc :  What is chronic kidney disease? Policy\n",
            "\n",
            "Kidney disease is called “chronic” because kidney function slowly decreases over time. CKD can lead to kidney failure, which is also called end-stage kidney disease.\n",
            "exit\n",
            "Doc : Bye Bye take care\n"
          ]
        }
      ]
    },
    {
      "cell_type": "code",
      "source": [],
      "metadata": {
        "id": "38wjk_jO3hhv"
      },
      "execution_count": null,
      "outputs": []
    }
  ]
}